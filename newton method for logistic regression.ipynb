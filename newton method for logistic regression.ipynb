{
 "cells": [
  {
   "cell_type": "markdown",
   "metadata": {},
   "source": [
    "### Newton Method for Logistic Regression\n",
    "\n",
    "&nbsp;\n",
    "\n",
    "Logistic regression is a simple model for binary classification. With a tiny modification, it can be applied to high dimension classification (Softmax regression). Logistic regression is usually in the form below.\n",
    "\n",
    "$$h_\\theta(x)=\\frac {1}{1+e^{-\\theta^Tx}}$$\n",
    "\n",
    "$$J(\\theta)= y log(h_\\theta(x)) + (1-y) log(1-h_\\theta(x))$$\n",
    "\n",
    "In gradient descent\n",
    "\n",
    "$$\\theta:=\\theta-\\alpha\\frac{\\partial J(\\theta)}{\\partial \\theta}=\\theta-\\alpha  (y-h_\\theta(x)) \\cdot x$$\n",
    "\n",
    "In Newton method\n",
    "\n",
    "$$\\theta:=\\theta-H^{-1} \\cdot \\nabla_\\theta {J(\\theta)}=\\theta-\\frac {\\frac{\\partial J(\\theta)}{\\partial \\theta}} {\\frac{\\partial^2 J(\\theta)}{\\partial \\theta^2}}=\\theta- \\frac {(y-h_\\theta(x)) \\cdot x}{h_\\theta(x)(1-h_\\theta(x)) \\cdot x^2}$$\n",
    "\n",
    "NM doesn't only skip the learning parameter $\\alpha$ of gradient descent, but also comes with quicker convergence than GD. NM's mea culpa is the inverse of a Hessian matrix (Fisher information matrix in statistics). When dealing with high dimensional matrix, the computation cost of an inverse can be quite expensive.\n",
    "\n",
    "Reference to Newton method\n",
    "\n",
    "http://thelaziestprogrammer.com/sharrington/math-of-machine-learning/solving-logreg-newtons-method"
   ]
  },
  {
   "cell_type": "code",
   "execution_count": 1,
   "metadata": {},
   "outputs": [],
   "source": [
    "import os\n",
    "os.chdir('d:/')\n",
    "from sklearn.linear_model import LogisticRegression as LR\n",
    "from sklearn.model_selection import train_test_split\n",
    "from sklearn.decomposition import PCA\n",
    "import matplotlib.pyplot as plt\n",
    "import pandas as pd\n",
    "import numpy as np\n",
    "import copy"
   ]
  },
  {
   "cell_type": "code",
   "execution_count": 2,
   "metadata": {},
   "outputs": [],
   "source": [
    "#formula of sigmoid function\n",
    "def sigmoid(theta0,theta1,x):\n",
    "    return 1/(1+np.e**(-1*(x*theta1+theta0)))\n",
    "\n",
    "#newton method to fit logit regression\n",
    "def newton_method(y,x):\n",
    "    \n",
    "    #stop is something set by us\n",
    "    #the concept is similar to gradient descent\n",
    "    #when our mean square error is smaller than stop\n",
    "    #we reach convergence therefore stop\n",
    "    #plz refer to my gradient descent file for explanation\n",
    "    # https://github.com/je-suis-tm/machine-learning/blob/master/gradient%20descent.ipynb\n",
    "    stop=0.000000001\n",
    "    \n",
    "    #we use pca to reduce our four dimension iris data into one\n",
    "    #reference to pca\n",
    "    # https://github.com/je-suis-tm/machine-learning/blob/master/principal%20component%20analysis.ipynb\n",
    "    pca_data=pd.DataFrame(PCA(n_components=1).fit_transform(x))[0]\n",
    "    x_train,x_test,y_train,y_test=train_test_split(pca_data,y,test_size=0.3)\n",
    "    \n",
    "    #when we read csv,we may get str value instead of float\n",
    "    #just convert to float from str\n",
    "    y_train=copy.deepcopy(y_train.apply(lambda x: float(x)))\n",
    "    y_test=copy.deepcopy(y_test.apply(lambda x: float(x)))\n",
    "\n",
    "    #set our parameter theta as a vector\n",
    "    #theta is the current parameter vector\n",
    "    #theta_prev is the last parameter vector\n",
    "    #we initialize theta_prev with the first example of training set\n",
    "    theta_prev=np.mat([y_train.iloc[0],x_train.iloc[1]]).T\n",
    "    theta=np.mat([0,0]).T\n",
    "    \n",
    "    #get the fitted value of y\n",
    "    fitted=sigmoid(theta_prev.item(0),theta_prev.item(1),x_train.iloc[0])\n",
    "\n",
    "    for i in range(1,len(y_train)):\n",
    "        \n",
    "        #calculate gradient and hessian matrix\n",
    "        #hessian is just partial derivative matrix of gradient\n",
    "        residual=y_train.iloc[i-1]-fitted\n",
    "        gradient=np.mat([residual,residual*x_train.iloc[i-1]]).T\n",
    "        hessian=np.mat([fitted*(1-fitted)*(x_train.iloc[i-1]**2),\\\n",
    "                       fitted*(1-fitted)*x_train.iloc[i-1],\\\n",
    "                       fitted*(1-fitted)*x_train.iloc[i-1],\\\n",
    "                       fitted*(1-fitted)]).reshape(2,2)\n",
    "\n",
    "        #newton method formula\n",
    "        theta=theta_prev+np.linalg.inv(hessian)*gradient\n",
    "        \n",
    "        fitted=sigmoid(theta.item(0),theta.item(1),x_train.iloc[i])\n",
    "        \n",
    "        if (y_train.iloc[i]-fitted)**2<stop:\n",
    "            print('converged')\n",
    "            break\n",
    "            \n",
    "        theta_prev=copy.deepcopy(theta)\n",
    "    \n",
    "    #calculate fitted y of test and train samples\n",
    "    test=sigmoid(theta.item(0),theta.item(1),x_test)    \n",
    "    curve=sigmoid(theta.item(0),theta.item(1),x_train)\n",
    "    \n",
    "    print('train accuracy: {}%'.format(len(\n",
    "        y_train[curve==y_train])/len(y_train)*100))\n",
    "    print('test accuracy: {}%'.format(len(\n",
    "        y_test[test==y_test])/len(y_test)*100))\n",
    "    print('intercept: %d'%(theta.item(0)))\n",
    "    print('coefficient: %d'%(theta.item(1)))\n",
    "    \n",
    "    #plot logit curve and scatters of train and test samples\n",
    "    plt.plot(sorted(x_train),sorted(curve),c='#009ab0',\n",
    "             lw=2,label='logit',alpha=0.5)\n",
    "    plt.scatter(x_test,y_test,c='#128a08',marker='o',\n",
    "                alpha=0.5,s=85,label='test')\n",
    "    plt.scatter(x_train,y_train,c='#ff0659',marker='*',\n",
    "                alpha=0.2,s=85,label='train')\n",
    "    plt.legend(loc='best')\n",
    "    plt.title('newton method')\n",
    "    plt.show()\n",
    "    \n",
    "    return theta"
   ]
  },
  {
   "cell_type": "code",
   "execution_count": 3,
   "metadata": {},
   "outputs": [],
   "source": [
    "#using sklearn library\n",
    "def logit(y,x):\n",
    "    \n",
    "    pca_data=PCA(n_components=1).fit_transform(x)\n",
    "\n",
    "    x_train,x_test,y_train,y_test=train_test_split(pca_data,y,test_size=0.3)\n",
    "\n",
    "    m=LR()\n",
    "    result=m.fit(x_train,y_train)\n",
    "    print('train accuracy: {}%'.format(m.score(x_train,y_train)*100))\n",
    "    print('test accuracy: {}%'.format(m.score(x_test,y_test)*100))\n",
    "    print('intercept: %s'%result.intercept_.item(0))\n",
    "    print('coefficient: %s'%result.coef_.item(0))\n",
    "\n",
    "    curve=sigmoid(result.intercept_.item(0),result.coef_.item(0),x_train)\n",
    "\n",
    "    plt.plot(sorted(x_train),sorted(curve),\n",
    "             c='#009ab0',lw=2,label='logit',alpha=0.5)\n",
    "    plt.scatter(x_test,y_test,c='#128a08',marker='o',\n",
    "                alpha=0.5,s=85,label='test')\n",
    "    plt.scatter(x_train,y_train,c='#ff0659',marker='*',\n",
    "                alpha=0.2,s=85,label='train')\n",
    "    plt.legend(loc='best')\n",
    "    plt.title('logit')\n",
    "    plt.show()"
   ]
  },
  {
   "cell_type": "markdown",
   "metadata": {},
   "source": [
    "### Run"
   ]
  },
  {
   "cell_type": "code",
   "execution_count": 4,
   "metadata": {},
   "outputs": [],
   "source": [
    "df=pd.read_csv('iris.csv')\n",
    "\n",
    "#make it a binary classification problem\n",
    "df=df[df['type']!='Iris-virginica']"
   ]
  },
  {
   "cell_type": "code",
   "execution_count": 5,
   "metadata": {},
   "outputs": [],
   "source": [
    "#convert text type into numerical type\n",
    "df['regressand']=np.select([df['type']=='Iris-setosa',df['type']=='Iris-versicolor'],['0','1'])"
   ]
  },
  {
   "cell_type": "code",
   "execution_count": 6,
   "metadata": {},
   "outputs": [],
   "source": [
    "x=pd.concat([df['sepal length'],\n",
    "                 df['sepal width'],\n",
    "                 df['petal length'],\n",
    "                 df['petal width']],axis=1)\n",
    "y=df['regressand']"
   ]
  },
  {
   "cell_type": "code",
   "execution_count": 7,
   "metadata": {},
   "outputs": [
    {
     "name": "stderr",
     "output_type": "stream",
     "text": [
      "C:\\Program Files (x86)\\Microsoft Visual Studio\\Shared\\Anaconda3_64\\lib\\site-packages\\ipykernel_launcher.py:2: RuntimeWarning: overflow encountered in double_scalars\n",
      "  \n"
     ]
    },
    {
     "name": "stdout",
     "output_type": "stream",
     "text": [
      "converged\n",
      "train accuracy: 95.71428571428572%\n",
      "test accuracy: 96.66666666666667%\n",
      "intercept: -36557931289088960\n",
      "coefficient: 51749885124383608\n"
     ]
    },
    {
     "data": {
      "image/png": "[encoded data removed]",
      "text/plain": [
       "<Figure size 432x288 with 1 Axes>"
      ]
     },
     "metadata": {},
     "output_type": "display_data"
    },
    {
     "data": {
      "text/plain": [
       "matrix([[-3.65579313e+16],\n",
       "        [ 5.17498851e+16]])"
      ]
     },
     "execution_count": 7,
     "metadata": {},
     "output_type": "execute_result"
    }
   ],
   "source": [
    "#our implementation of newton method is not as good as sklearn\n",
    "#sometimes we encounter singular matrix error\n",
    "#the accuracy depends on how we split train and test samples\n",
    "newton_method(y,x)"
   ]
  },
  {
   "cell_type": "code",
   "execution_count": 8,
   "metadata": {},
   "outputs": [
    {
     "name": "stdout",
     "output_type": "stream",
     "text": [
      "train accuracy: 100.0%\n",
      "test accuracy: 100.0%\n",
      "intercept: 0.38365796999300084\n",
      "coefficient: 2.473980898665508\n"
     ]
    },
    {
     "data": {
      "image/png": "[encoded data removed]",
      "text/plain": [
       "<Figure size 432x288 with 1 Axes>"
      ]
     },
     "metadata": {},
     "output_type": "display_data"
    }
   ],
   "source": [
    "#sklearn logit always score 100% accuracy\n",
    "logit(y,x)"
   ]
  },
  {
   "cell_type": "code",
   "execution_count": null,
   "metadata": {},
   "outputs": [],
   "source": []
  }
 ],
 "metadata": {
  "kernelspec": {
   "display_name": "Python 3",
   "language": "python",
   "name": "python3"
  },
  "language_info": {
   "codemirror_mode": {
    "name": "ipython",
    "version": 3
   },
   "file_extension": ".py",
   "mimetype": "text/x-python",
   "name": "python",
   "nbconvert_exporter": "python",
   "pygments_lexer": "ipython3",
   "version": "3.6.5"
  },
  "toc": {
   "base_numbering": 1,
   "nav_menu": {},
   "number_sections": true,
   "sideBar": true,
   "skip_h1_title": false,
   "title_cell": "Table of Contents",
   "title_sidebar": "Contents",
   "toc_cell": false,
   "toc_position": {},
   "toc_section_display": true,
   "toc_window_display": false
  }
 },
 "nbformat": 4,
 "nbformat_minor": 2
}
