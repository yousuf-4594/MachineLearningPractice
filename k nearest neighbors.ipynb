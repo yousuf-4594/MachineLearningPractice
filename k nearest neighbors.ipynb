{
 "cells": [
  {
   "cell_type": "markdown",
   "metadata": {},
   "source": [
    "### K Nearest Neighbors\n",
    "\n",
    "&nbsp;\n",
    "\n",
    "K nearest neighbors is the easiest machine learning algorithm. No linear algebra, no calculus, no convex optimization. All it needs is Euclidean distance, something you learned from geometry a long while ago. It works well with small dataset in terms of both dimensions and amount. It is highly sensitive to outliers and it doesn't function well when facing large dataset or categorical dataset."
   ]
  },
  {
   "cell_type": "code",
   "execution_count": 1,
   "metadata": {},
   "outputs": [],
   "source": [
    "import pandas as pd\n",
    "from sklearn.datasets import load_iris\n",
    "from sklearn.model_selection import train_test_split\n",
    "from sklearn.neighbors import KNeighborsClassifier"
   ]
  },
  {
   "cell_type": "code",
   "execution_count": 2,
   "metadata": {},
   "outputs": [],
   "source": [
    "#to forecast the label of a data point\n",
    "#we compute its euclidean distance from all training data\n",
    "#we select k nearest neighbors (smallest distance)\n",
    "#each neighbor has a label\n",
    "#the one with the most votes will be the prediction\n",
    "def voting(train,datapoint,xcol,k):\n",
    "    \n",
    "    #compute euclidean distance\n",
    "    distance=train[xcol]-datapoint\n",
    "    distance['euclidean distance']=[sum([j**2 for j in distance.loc[i]])**0.5 for i in range(len(distance))]\n",
    "\n",
    "    distance['y']=train['y']\n",
    "    \n",
    "    #find k nearest neighbors\n",
    "    distance=distance.sort_values(by='euclidean distance')\n",
    "    votes=distance['y'].iloc[:k]\n",
    "    \n",
    "    #voting\n",
    "    vote=None\n",
    "    num=-1\n",
    "    for i in set(votes):\n",
    "        if votes.tolist().count(i)>num:\n",
    "            num=votes.tolist().count(i)\n",
    "            vote=i\n",
    "            \n",
    "    return vote"
   ]
  },
  {
   "cell_type": "code",
   "execution_count": 3,
   "metadata": {},
   "outputs": [],
   "source": [
    "#knn self implementation\n",
    "def knn(train,test,k,xcol):\n",
    "    \n",
    "    train['predict']=None\n",
    "\n",
    "    test['predict']=None\n",
    "\n",
    "    for i in range(len(train)):\n",
    "        datapoint=train[xcol].loc[i]\n",
    "        train.at[i,'predict']=voting(train,datapoint,xcol,k)\n",
    "\n",
    "    for i in range(len(test)):\n",
    "        datapoint=test[xcol].loc[i]\n",
    "        test.at[i,'predict']=voting(train,datapoint,xcol,k)\n",
    "\n",
    "    print('\\ntrain accuracy: %s'%(len(train[train['y']==train['predict']])/len(train)))\n",
    "    print('\\ntest accuracy: %s'%(len(test[test['y']==test['predict']])/len(test)))"
   ]
  },
  {
   "cell_type": "code",
   "execution_count": 4,
   "metadata": {},
   "outputs": [],
   "source": [
    "#official sklearn knn\n",
    "def skl_knn(train,test,xcol,ycol,k):\n",
    "\n",
    "    clf=KNeighborsClassifier(n_neighbors=k).fit(train[xcol],train[ycol])\n",
    "    print('\\ntrain accuracy: %s'%(clf.score(train[xcol],train[ycol])))\n",
    "    print('\\ntest accuracy: %s'%(clf.score(test[xcol],test[ycol])))"
   ]
  },
  {
   "cell_type": "code",
   "execution_count": 5,
   "metadata": {},
   "outputs": [],
   "source": [
    "xcol=['x0','x1','x2','x3']\n",
    "ycol='y'"
   ]
  },
  {
   "cell_type": "code",
   "execution_count": 6,
   "metadata": {},
   "outputs": [],
   "source": [
    "iris=load_iris()\n",
    "\n",
    "df=pd.DataFrame(iris.data,columns=xcol)\n",
    "\n",
    "#each input factor has to be float/int\n",
    "#sklearn has already done that for us\n",
    "#but if you are using the dataset inside the repository\n",
    "#you can use np.unique to convert categorical data to int\n",
    "df[ycol]=iris.target"
   ]
  },
  {
   "cell_type": "code",
   "execution_count": 7,
   "metadata": {},
   "outputs": [],
   "source": [
    "x_train,x_test,y_train,y_test=train_test_split(df[xcol],df[ycol])\n",
    "\n",
    "train=pd.concat([x_train,y_train],axis=1)\n",
    "train.reset_index(inplace=True,drop=True)\n",
    "    \n",
    "test=pd.concat([x_test,y_test],axis=1)\n",
    "test.reset_index(inplace=True,drop=True)"
   ]
  },
  {
   "cell_type": "code",
   "execution_count": 8,
   "metadata": {},
   "outputs": [],
   "source": [
    "#the conventional way to select k\n",
    "#take the square root of the amount of data points\n",
    "#preferably an odd number\n",
    "#another way is to iterate through different numbers\n",
    "#to find an optimal k that achieves the best accuracy\n",
    "#as it is computational expensive\n",
    "#i wont implement it here\n",
    "potential=int(len(train)**0.5)\n",
    "k=potential if potential%2!=0 else potential-1"
   ]
  },
  {
   "cell_type": "code",
   "execution_count": 9,
   "metadata": {},
   "outputs": [
    {
     "name": "stdout",
     "output_type": "stream",
     "text": [
      "\n",
      "train accuracy: 0.9642857142857143\n",
      "\n",
      "test accuracy: 1.0\n"
     ]
    }
   ],
   "source": [
    "#even though the algorithm is naïve\n",
    "#it turns out to be quite effective\n",
    "knn(train,test,k,xcol)"
   ]
  },
  {
   "cell_type": "code",
   "execution_count": 10,
   "metadata": {},
   "outputs": [
    {
     "name": "stdout",
     "output_type": "stream",
     "text": [
      "\n",
      "train accuracy: 0.9642857142857143\n",
      "\n",
      "test accuracy: 1.0\n"
     ]
    }
   ],
   "source": [
    "skl_knn(train,test,xcol,ycol,k)"
   ]
  },
  {
   "cell_type": "markdown",
   "metadata": {},
   "source": [
    "&nbsp;\n",
    "### A Showcase of How KNN Works\n",
    "&nbsp;"
   ]
  },
  {
   "cell_type": "code",
   "execution_count": 11,
   "metadata": {},
   "outputs": [],
   "source": [
    "from sklearn.decomposition import PCA\n",
    "import matplotlib.pyplot as plt"
   ]
  },
  {
   "cell_type": "code",
   "execution_count": 12,
   "metadata": {
    "scrolled": true
   },
   "outputs": [],
   "source": [
    "#dimensions reduce to 2 so we can plot a 2d figure\n",
    "#you can check more about pca in the link below\n",
    "# https://github.com/je-suis-tm/machine-learning/blob/master/principal%20component%20analysis.ipynb\n",
    "X=PCA(2).fit_transform(train[xcol])\n",
    "\n",
    "train['dim1']=X[:,0]\n",
    "train['dim2']=X[:,1]\n",
    "\n",
    "#randomly select one data point\n",
    "datapoint=train[['dim1','dim2']].iloc[20]"
   ]
  },
  {
   "cell_type": "code",
   "execution_count": 13,
   "metadata": {},
   "outputs": [],
   "source": [
    "#compute euclidean distance then select k nearest neighbors\n",
    "distance=train[['dim1','dim2']]-datapoint\n",
    "distance['euclidean distance']=[sum([j**2 for j in distance.loc[i]])**0.5 for i in range(len(distance))]\n",
    "distance=distance.sort_values(by='euclidean distance')\n",
    "\n",
    "#why 1 to k+1?\n",
    "#becuz we are using training dataset\n",
    "#we need to exclude itself\n",
    "#technically we should do the same when we calculate train accuracy\n",
    "votes=distance.iloc[1:k+1]"
   ]
  },
  {
   "cell_type": "markdown",
   "metadata": {},
   "source": [
    "&nbsp;\n",
    "\n",
    "In the following figure, different colors imply different labels. Apparently in our case, the yellow label dominates the votes. The label of the testing data point should be purple as well.\n",
    "\n",
    "&nbsp;"
   ]
  },
  {
   "cell_type": "code",
   "execution_count": 14,
   "metadata": {
    "scrolled": true
   },
   "outputs": [
    {
     "data": {
      "image/png": "[encoded data removed]",
      "text/plain": [
       "<Figure size 432x288 with 1 Axes>"
      ]
     },
     "metadata": {
      "needs_background": "light"
     },
     "output_type": "display_data"
    }
   ],
   "source": [
    "plt.scatter(train['dim1'].loc[votes.index],\n",
    "            train['dim2'].loc[votes.index],\n",
    "            c=train['y'].loc[votes.index],s=50,label='train')\n",
    "plt.scatter(datapoint[0],datapoint[1],\n",
    "            marker='*',c='r',s=200,label='test')\n",
    "plt.legend(loc=0)\n",
    "plt.show()"
   ]
  },
  {
   "cell_type": "code",
   "execution_count": null,
   "metadata": {},
   "outputs": [],
   "source": []
  }
 ],
 "metadata": {
  "kernelspec": {
   "display_name": "Python 3",
   "language": "python",
   "name": "python3"
  },
  "language_info": {
   "codemirror_mode": {
    "name": "ipython",
    "version": 3
   },
   "file_extension": ".py",
   "mimetype": "text/x-python",
   "name": "python",
   "nbconvert_exporter": "python",
   "pygments_lexer": "ipython3",
   "version": "3.6.5"
  },
  "toc": {
   "base_numbering": 1,
   "nav_menu": {},
   "number_sections": true,
   "sideBar": true,
   "skip_h1_title": false,
   "title_cell": "Table of Contents",
   "title_sidebar": "Contents",
   "toc_cell": false,
   "toc_position": {},
   "toc_section_display": true,
   "toc_window_display": false
  }
 },
 "nbformat": 4,
 "nbformat_minor": 2
}
