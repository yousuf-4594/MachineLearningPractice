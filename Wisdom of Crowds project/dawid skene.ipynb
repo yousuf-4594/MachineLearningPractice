{
 "cells": [
  {
   "cell_type": "markdown",
   "metadata": {},
   "source": [
    "### Dawid-Skene Model\n",
    "\n",
    "&nbsp;\n",
    "\n",
    "Dawid-Skene Model is one of the most common models in crowdsourcing problems. Developed by Alexander Philip Dawid and Allan Skene in 1977, it is designed to recover the true value from multiple noisy measurements. The way it works heavily relies on Bayes' theorem. At first, we take an initial guess (usually majority vote) of the true value. Next, we compute the prior probability. By leveraging the Bayes' theorem, we can derive the posterior probability of the true value to update our initial guess. We repeat these two steps until convergence. Sounds familiar? That's right. It's done in EM algorithm.\n",
    "\n",
    "Details of EM algorithm can be found in the following link\n",
    "\n",
    "https://github.com/je-suis-tm/machine-learning/blob/master/naive%20bayes%20mixture%20model.ipynb\n",
    "\n",
    "The original paper can be referred to the link below\n",
    "\n",
    "https://www.semanticscholar.org/paper/Maximum-Likelihood-Estimation-of-Observer-Using-the-Dawid-Skene/c80c7ab615b2fad5148a7848dbdd26a2dc50dd3d\n",
    "\n",
    "If you don't wanna get lost in the original paper, this example is the most comprehensive illustration\n",
    "\n",
    "https://sukrutrao.github.io/project/fast-dawid-skene/Fast-Dawid-Skene.pdf\n",
    "\n",
    "Apart from Dawid-Skene Model, minimax entropy can be used as an alternative method for discrete case\n",
    "\n",
    "https://dennyzhou.github.io/talks/MinimaxEnt.pdf\n",
    "\n",
    "For continuous case, plz check Platt-Burges Model\n",
    "\n",
    "https://github.com/je-suis-tm/machine-learning/blob/master/Wisdom%20of%20Crowds%20project/platt%20burges.ipynb"
   ]
  },
  {
   "cell_type": "code",
   "execution_count": 1,
   "metadata": {},
   "outputs": [],
   "source": [
    "import os\n",
    "os.chdir('k:/ecole/github/televerser/wisdom of crowds')\n",
    "import numpy as np\n",
    "import pandas as pd\n",
    "import scipy.stats\n",
    "import sklearn.metrics"
   ]
  },
  {
   "cell_type": "markdown",
   "metadata": {},
   "source": [
    "### Functions"
   ]
  },
  {
   "cell_type": "code",
   "execution_count": 2,
   "metadata": {},
   "outputs": [],
   "source": [
    "#e step\n",
    "#update prior\n",
    "def e_step(matrix,prior_truth):\n",
    "\n",
    "    confusion_matrices={}\n",
    "\n",
    "    for bank_id in range(matrix.shape[0]):\n",
    "\n",
    "        #utilize sklearn to compute prior\n",
    "        confusion_matrices[bank_id]=sklearn.metrics.confusion_matrix(\n",
    "            y_true=prior_truth,\n",
    "            y_pred=matrix[bank_id].ravel().tolist()[0],\n",
    "            normalize='true')\n",
    "    \n",
    "    return confusion_matrices"
   ]
  },
  {
   "cell_type": "code",
   "execution_count": 3,
   "metadata": {},
   "outputs": [],
   "source": [
    "#m step\n",
    "#update posterior\n",
    "def m_step(matrix,prior_truth,confusion_matrices):\n",
    "\n",
    "    cases,_=np.unique(matrix.ravel().tolist()[0],\n",
    "                      return_inverse=True)\n",
    "    post_truth=[]\n",
    "\n",
    "    for commodity_id,_ in enumerate(prior_truth):\n",
    "        commodity_forecast=matrix[:,commodity_id]\n",
    "\n",
    "        #bayes theorem\n",
    "        prob_comparison={}\n",
    "        for case in cases:\n",
    "            uncond_prob=prior_truth.count(case)/len(prior_truth)\n",
    "            cond_prob=1\n",
    "            for bank_id in range(matrix.shape[0]):\n",
    "                prob=confusion_matrices[bank_id][int(case),\n",
    "                      int(matrix[bank_id,commodity_id])]\n",
    "                cond_prob*=prob\n",
    "            \n",
    "            #compute posterior\n",
    "            post=cond_prob*uncond_prob\n",
    "            prob_comparison[case]=post\n",
    "\n",
    "        #update the initial guess\n",
    "        prob_comparison=dict(sorted(prob_comparison.items(),\n",
    "                                    key=lambda x:x[1],\n",
    "                                    reverse=True))\n",
    "        post_truth.append(list(prob_comparison.keys())[0])\n",
    "        \n",
    "    return post_truth"
   ]
  },
  {
   "cell_type": "code",
   "execution_count": 4,
   "metadata": {},
   "outputs": [],
   "source": [
    "#em algorithm wrapped up in one\n",
    "def dawid_skene(matrix,init_truth):\n",
    "\n",
    "    #initialize\n",
    "    truth=init_truth\n",
    "    iterations=[truth]\n",
    "    stop=False    \n",
    "    counter=0\n",
    "\n",
    "    while not stop:\n",
    "        \n",
    "        counter+=1\n",
    "\n",
    "        #em algorithm\n",
    "        confusion_matrices=e_step(matrix,truth)\n",
    "        truth=m_step(matrix,truth,confusion_matrices)\n",
    "\n",
    "        iterations.append(truth)\n",
    "\n",
    "        #convergence check\n",
    "        if iterations[-2]==iterations[-1]:\n",
    "            stop=True\n",
    "            print(f'converged after {counter} iterations')\n",
    "        \n",
    "    return truth"
   ]
  },
  {
   "cell_type": "markdown",
   "metadata": {},
   "source": [
    "### ETL"
   ]
  },
  {
   "cell_type": "code",
   "execution_count": 5,
   "metadata": {},
   "outputs": [],
   "source": [
    "#read data\n",
    "y0matrix2019=pd.read_csv('y0matrix2019.csv')\n",
    "\n",
    "y1matrix2020=pd.read_csv('y1matrix2020.csv')\n",
    "\n",
    "monthly=pd.read_csv('monthly.csv')\n",
    "\n",
    "annual=pd.read_csv('annual.csv')"
   ]
  },
  {
   "cell_type": "code",
   "execution_count": 6,
   "metadata": {},
   "outputs": [],
   "source": [
    "#set index\n",
    "y0matrix2019.set_index('Source Name',inplace=True)\n",
    "\n",
    "y1matrix2020.set_index('Source Name',inplace=True)\n",
    "\n",
    "monthly.set_index('Date',inplace=True)\n",
    "monthly.index=pd.to_datetime(monthly.index)\n",
    "monthly.columns=y0matrix2019.columns\n",
    "\n",
    "annual=annual.pivot(index='Date',columns='Name',values='Value')\n",
    "annual.index=pd.to_datetime(annual.index)"
   ]
  },
  {
   "cell_type": "code",
   "execution_count": 7,
   "metadata": {},
   "outputs": [],
   "source": [
    "#generate forecast data\n",
    "y0matrix2019_direction_est=np.sign(np.subtract(y0matrix2019,\n",
    "                                          monthly['2019-08':'2019-08']))\n",
    "\n",
    "y1matrix2020_direction_est=np.sign(np.subtract(y1matrix2020,\n",
    "                                          monthly['2019-08':'2019-08']))"
   ]
  },
  {
   "cell_type": "markdown",
   "metadata": {},
   "source": [
    "### Ensemble learning"
   ]
  },
  {
   "cell_type": "code",
   "execution_count": 8,
   "metadata": {},
   "outputs": [
    {
     "name": "stdout",
     "output_type": "stream",
     "text": [
      "converged after 1 iterations\n",
      "[1.0, 1.0, 1.0, 0.0, 1.0, 0.0, 0.0, 0.0, 1.0, 1.0, 1.0] [1.0, 1.0, 1.0, 0.0, 1.0, 0.0, 0.0, 0.0, 1.0, 1.0, 1.0]\n"
     ]
    }
   ],
   "source": [
    "#construct matrix for y+0 forecast\n",
    "matrix=np.mat(y0matrix2019_direction_est)\n",
    "\n",
    "#use positive number for better indexing\n",
    "matrix[matrix==-1]=0.\n",
    "\n",
    "#initialize with majority voting\n",
    "init_truth=[scipy.stats.mode(i.tolist()[0])[0][0] for i in matrix.T]\n",
    "\n",
    "#run\n",
    "truth=dawid_skene(matrix,init_truth)\n",
    "\n",
    "#as most of the predictions are pretty much aligned\n",
    "#no adjustment is needed\n",
    "#the result is consistent with citigroup, commonwealth bank\n",
    "#deutsche bank and goldman sachs\n",
    "#10/11 accuracy\n",
    "print(init_truth,truth)"
   ]
  },
  {
   "cell_type": "code",
   "execution_count": 9,
   "metadata": {},
   "outputs": [
    {
     "name": "stdout",
     "output_type": "stream",
     "text": [
      "converged after 1 iterations\n",
      "[1.0, 1.0, 1.0, 0.0, 1.0, 0.0, 1.0, 0.0, 1.0, 1.0, 0.0] [1.0, 1.0, 1.0, 0.0, 1.0, 0.0, 1.0, 0.0, 1.0, 1.0, 0.0]\n"
     ]
    }
   ],
   "source": [
    "#construct matrix for y+1 forecast\n",
    "matrix=np.mat(y1matrix2020_direction_est)\n",
    "\n",
    "#use positive number for better indexing\n",
    "matrix[matrix==-1]=0.\n",
    "\n",
    "#initialize with majority voting\n",
    "init_truth=[scipy.stats.mode(i.tolist()[0])[0][0] for i in matrix.T]\n",
    "\n",
    "#run\n",
    "truth=dawid_skene(matrix,init_truth)\n",
    "\n",
    "#as most of the predictions are pretty much aligned\n",
    "#no adjustment is needed\n",
    "#the result is consistent with jp morgan\n",
    "#4/11 accuracy, worse than tossing a coin lol\n",
    "print(init_truth,truth)"
   ]
  },
  {
   "cell_type": "markdown",
   "metadata": {},
   "source": [
    "### Diversified Case"
   ]
  },
  {
   "cell_type": "code",
   "execution_count": 10,
   "metadata": {},
   "outputs": [
    {
     "name": "stdout",
     "output_type": "stream",
     "text": [
      "converged after 2 iterations\n",
      "[1, 0, 0, 1, 1] [0, 1, 0, 1, 1]\n"
     ]
    }
   ],
   "source": [
    "#a diversified case from Sukrut Rao\n",
    "matrix=np.mat([[1,1,0,1,1],[0,0,0,1,1],[1,0,1,0,0]])\n",
    "\n",
    "#initialize with majority voting\n",
    "init_truth=[scipy.stats.mode(i.tolist()[0])[0][0] for i in matrix.T]\n",
    "\n",
    "#run\n",
    "truth=dawid_skene(matrix,init_truth)\n",
    "\n",
    "#a case which bayes theorem works well\n",
    "print(init_truth,truth)"
   ]
  }
 ],
 "metadata": {
  "kernelspec": {
   "display_name": "Python 3",
   "language": "python",
   "name": "python3"
  },
  "language_info": {
   "codemirror_mode": {
    "name": "ipython",
    "version": 3
   },
   "file_extension": ".py",
   "mimetype": "text/x-python",
   "name": "python",
   "nbconvert_exporter": "python",
   "pygments_lexer": "ipython3",
   "version": "3.6.5"
  },
  "toc": {
   "base_numbering": 1,
   "nav_menu": {},
   "number_sections": true,
   "sideBar": true,
   "skip_h1_title": false,
   "title_cell": "Table of Contents",
   "title_sidebar": "Contents",
   "toc_cell": false,
   "toc_position": {
    "height": "calc(100% - 180px)",
    "left": "10px",
    "top": "150px",
    "width": "154px"
   },
   "toc_section_display": true,
   "toc_window_display": false
  }
 },
 "nbformat": 4,
 "nbformat_minor": 2
}
