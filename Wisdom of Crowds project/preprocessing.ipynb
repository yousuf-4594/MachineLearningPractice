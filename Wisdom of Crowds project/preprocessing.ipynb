{
 "cells": [
  {
   "cell_type": "code",
   "execution_count": 1,
   "metadata": {},
   "outputs": [],
   "source": [
    "import os\n",
    "os.chdir('K:/ecole/github/televerser/wisdom of crowds')\n",
    "import pandas as pd"
   ]
  },
  {
   "cell_type": "code",
   "execution_count": 2,
   "metadata": {},
   "outputs": [],
   "source": [
    "targetyear=[2019,2020]\n",
    "\n",
    "target_commodity_consensus=['ALUMINIUM',\n",
    " 'BRENT OIL',\n",
    " 'COPPER',\n",
    " 'GOLD',\n",
    " 'HENRY HUB',\n",
    " 'NICKEL',\n",
    " 'PLATINUM',\n",
    " 'SILVER',\n",
    " 'THERMAL COAL',\n",
    " 'WTI OIL',\n",
    " 'ZINC']\n",
    "\n",
    "target_commodity_spot=['Aluminum $/t',\n",
    " 'Brent Oil $/bbl',\n",
    " 'Copper $/t',\n",
    " 'Gold $/oz',\n",
    " 'Nat Gas $/MMBtu',\n",
    " 'Nickel $/t',\n",
    " 'Platinum $/oz',\n",
    " 'Silver $/oz',\n",
    " 'Thermal Coal $/t',\n",
    " 'WTI Oil $/bbl',\n",
    " 'Zinc LME Cash $/t']\n",
    "\n",
    "target_source=['BMO',  'CITIGROUP',\n",
    "    'GOLDMAN SACHS', 'BOAML', 'JP MORGAN', \n",
    "    'TD SECURITIES', 'COMMONWEALTH BANK', 'DEUTSCHE BANK']\n",
    "\n",
    "lbs2ton=2204.6226218"
   ]
  },
  {
   "cell_type": "code",
   "execution_count": 3,
   "metadata": {},
   "outputs": [
    {
     "name": "stderr",
     "output_type": "stream",
     "text": [
      "C:\\ProgramData\\Anaconda3\\lib\\site-packages\\ipykernel_launcher.py:31: UserWarning: Boolean Series key will be reindexed to match DataFrame index.\n",
      "C:\\ProgramData\\Anaconda3\\lib\\site-packages\\ipykernel_launcher.py:35: UserWarning: Boolean Series key will be reindexed to match DataFrame index.\n",
      "C:\\ProgramData\\Anaconda3\\lib\\site-packages\\pandas\\core\\indexing.py:189: SettingWithCopyWarning: \n",
      "A value is trying to be set on a copy of a slice from a DataFrame\n",
      "\n",
      "See the caveats in the documentation: http://pandas.pydata.org/pandas-docs/stable/indexing.html#indexing-view-versus-copy\n",
      "  self._setitem_with_indexer(indexer, value)\n",
      "C:\\ProgramData\\Anaconda3\\lib\\site-packages\\ipykernel_launcher.py:37: UserWarning: Boolean Series key will be reindexed to match DataFrame index.\n"
     ]
    }
   ],
   "source": [
    "#get consensus\n",
    "cons=pd.read_csv('consensus.csv')\n",
    "\n",
    "#remove useless commodities\n",
    "cons=cons[cons['Commodity Product Name'].isin(target_commodity_consensus)]\n",
    "\n",
    "#datetime format\n",
    "for i in ['Forecast Publish Date','Date',\n",
    "          'First Publish Date','Date Of Update']:\n",
    "    cons[i]=pd.to_datetime(cons[i])\n",
    "\n",
    "#only include recent year\n",
    "cons=cons[cons['Date'].dt.year.isin(targetyear)]\n",
    "\n",
    "#only include certain banks\n",
    "cons=cons[cons['Source Name'].isin(target_source)]\n",
    "\n",
    "#take the latest date as the publish date\n",
    "cons['publish date']=cons[['Forecast Publish Date',\n",
    "    'First Publish Date','Date Of Update']].max(axis=1)\n",
    "\n",
    "#only care about year and month\n",
    "cons['publish date']=cons['publish date'].astype(str).apply(lambda x:x[:8]+'01')\n",
    "cons['publish date']=pd.to_datetime(cons['publish date'])\n",
    "\n",
    "#for simplicity\n",
    "#only consider annual price\n",
    "cons=cons[cons['Period Name']=='YEAR']\n",
    "    \n",
    "#delete henry hub europe\n",
    "ind=cons[cons['Location Name']=='EUROPE'][cons['Commodity Product Name']=='HENRY HUB'].index\n",
    "cons.drop(ind,inplace=True)\n",
    "\n",
    "#unit conversion\n",
    "ind=cons[cons['Commodity Product Name'].isin(['ALUMINIUM', 'COPPER', 'NICKEL', 'ZINC'])][cons['Units Name']=='$/LB'].index\n",
    "cons['Raw Price Value'].loc[ind]=cons['Raw Price Value'].loc[ind]*lbs2ton\n",
    "ind=cons[cons['Commodity Product Name'].isin(['ALUMINIUM', 'COPPER', 'NICKEL', 'ZINC'])][cons['Units Name']=='C/LB'].index\n",
    "cons['Raw Price Value'].loc[ind]=cons['Raw Price Value'].loc[ind]*lbs2ton/100\n",
    "\n",
    "#cleanse\n",
    "for i in ['Grade Name', 'Price Type Name','Location Name',\n",
    " 'Product Type Name', 'Value Type Name','Freight Term Name',\n",
    " 'Purity', 'Forecast Publish Date', 'Currency Name',\n",
    " 'Nominal Or Real Reference Year','Period Name',\n",
    " 'First Publish Date', 'Notes', 'Date Of Update']:\n",
    "    del cons[i]    \n",
    "cons=cons.sort_values(['Date','publish date',\n",
    "                  'Commodity Product Name',                   \n",
    "                  'Units Name','Source Name'])\n",
    "cons.reset_index(inplace=True,drop=True)"
   ]
  },
  {
   "cell_type": "code",
   "execution_count": 4,
   "metadata": {},
   "outputs": [
    {
     "name": "stderr",
     "output_type": "stream",
     "text": [
      "C:\\ProgramData\\Anaconda3\\lib\\site-packages\\ipykernel_launcher.py:2: UserWarning: Boolean Series key will be reindexed to match DataFrame index.\n",
      "  \n"
     ]
    }
   ],
   "source": [
    "#create output\n",
    "output=cons[cons['publish date']==pd.to_datetime('2019-08-01')][cons['Date']==pd.to_datetime('2019-12-31')]\n",
    "output=output.drop_duplicates()\n",
    "output.reset_index(inplace=True,drop=True)\n",
    "output.pivot(index='Source Name',columns='Commodity Product Name',\n",
    "          values='Raw Price Value').to_csv('y0matrix2019.csv')"
   ]
  },
  {
   "cell_type": "code",
   "execution_count": 5,
   "metadata": {},
   "outputs": [
    {
     "name": "stderr",
     "output_type": "stream",
     "text": [
      "C:\\ProgramData\\Anaconda3\\lib\\site-packages\\ipykernel_launcher.py:2: UserWarning: Boolean Series key will be reindexed to match DataFrame index.\n",
      "  \n"
     ]
    }
   ],
   "source": [
    "#create output\n",
    "output=cons[cons['publish date']==pd.to_datetime('2019-08-01')][cons['Date']==pd.to_datetime('2020-12-31')]\n",
    "output=output.drop_duplicates()\n",
    "output.reset_index(inplace=True,drop=True)\n",
    "output.pivot(index='Source Name',columns='Commodity Product Name',\n",
    "          values='Raw Price Value').to_csv('y1matrix2020.csv')"
   ]
  },
  {
   "cell_type": "code",
   "execution_count": 6,
   "metadata": {},
   "outputs": [
    {
     "name": "stderr",
     "output_type": "stream",
     "text": [
      "C:\\ProgramData\\Anaconda3\\lib\\site-packages\\ipykernel_launcher.py:2: UserWarning: Boolean Series key will be reindexed to match DataFrame index.\n",
      "  \n"
     ]
    }
   ],
   "source": [
    "#create output\n",
    "output=cons[cons['publish date']==pd.to_datetime('2020-08-01')][cons['Date']==pd.to_datetime('2020-12-31')]\n",
    "output=output.drop_duplicates()\n",
    "output.reset_index(inplace=True,drop=True)\n",
    "output.pivot(index='Source Name',columns='Commodity Product Name',\n",
    "          values='Raw Price Value').to_csv('y0matrix2020.csv')"
   ]
  },
  {
   "cell_type": "code",
   "execution_count": 7,
   "metadata": {},
   "outputs": [],
   "source": [
    "#get spot\n",
    "spot=pd.read_csv('spot.csv')\n",
    "\n",
    "#filter commodities\n",
    "spot=spot[spot['Name'].isin(target_commodity_spot)]\n",
    "\n",
    "#datetime format\n",
    "spot['Date']=pd.to_datetime(spot['Date'])\n",
    "\n",
    "#cleanse\n",
    "spot.reset_index(inplace=True,drop=True)"
   ]
  },
  {
   "cell_type": "code",
   "execution_count": 8,
   "metadata": {},
   "outputs": [],
   "source": [
    "#filter year\n",
    "avg=spot[spot['Date'].dt.year.isin(targetyear)]\n",
    "\n",
    "#remove na\n",
    "avg=avg.loc[avg['Value'].dropna().index]\n",
    "\n",
    "#datetime index\n",
    "avg.set_index('Date',inplace=True)\n",
    "\n",
    "#compute annual avg\n",
    "avg.groupby(['Name']).resample('1A').mean().to_csv('annual.csv')"
   ]
  },
  {
   "cell_type": "code",
   "execution_count": 9,
   "metadata": {},
   "outputs": [],
   "source": [
    "#compute monthly avg\n",
    "monthly_avg=avg.groupby(['Name']).resample('1M').mean()\n",
    "\n",
    "monthly_avg.reset_index(inplace=True)\n",
    "\n",
    "monthly_avg.pivot(index='Date',columns='Name',values='Value').to_csv('monthly.csv')"
   ]
  },
  {
   "cell_type": "code",
   "execution_count": null,
   "metadata": {},
   "outputs": [],
   "source": []
  }
 ],
 "metadata": {
  "kernelspec": {
   "display_name": "Python 3",
   "language": "python",
   "name": "python3"
  },
  "language_info": {
   "codemirror_mode": {
    "name": "ipython",
    "version": 3
   },
   "file_extension": ".py",
   "mimetype": "text/x-python",
   "name": "python",
   "nbconvert_exporter": "python",
   "pygments_lexer": "ipython3",
   "version": "3.6.5"
  },
  "toc": {
   "base_numbering": 1,
   "nav_menu": {},
   "number_sections": true,
   "sideBar": true,
   "skip_h1_title": false,
   "title_cell": "Table of Contents",
   "title_sidebar": "Contents",
   "toc_cell": false,
   "toc_position": {},
   "toc_section_display": true,
   "toc_window_display": false
  }
 },
 "nbformat": 4,
 "nbformat_minor": 2
}
