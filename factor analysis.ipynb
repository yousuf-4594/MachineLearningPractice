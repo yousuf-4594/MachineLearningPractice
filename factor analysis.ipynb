{
 "cells": [
  {
   "cell_type": "markdown",
   "metadata": {},
   "source": [
    "### Factor Analysis\n",
    "\n",
    "&nbsp;\n",
    "\n",
    "Factor Analysis is another model solved by Expectation Maximization algorithm (we already have Gaussian Mixture Model and Naive Bayes Mixture Model). It is related to Principal Component Analysis as it is a generalized version of Probabilistic PCA. Although both PCA and FA work on dimension reduction, FA has the capability to detect the latent variable structure from the perspective of distribution.\n",
    "\n",
    "Unfortunately, there aren't many towardsdatascience articles on FA due to its complexity in derivation. You can read the paper by Ghahramani and Hinton in 1996 as an alternative material for Stanford University (though they offer a slightly different version of derivation).\n",
    "\n",
    "FA in sklearn uses a different approach called singular value decomposition. EM is slower than SVD due to the increasing computation in log likelihood (Barber 2012). For those of you who are interested in SVD implementation of FA, you can refer to the free textbook hosted on the server of UCL.\n",
    "\n",
    "http://web4.cs.ucl.ac.uk/staff/D.Barber/pmwiki/pmwiki.php?n=Brml.Online\n",
    "\n",
    "Alternative FA material\n",
    "\n",
    "http://www.cs.utoronto.ca/~hinton/absps/tr-96-1.pdf\n",
    "\n",
    "Reference to PCA\n",
    "\n",
    "https://github.com/je-suis-tm/machine-learning/blob/master/principal%20component%20analysis.ipynb\n",
    "    "
   ]
  },
  {
   "cell_type": "code",
   "execution_count": 1,
   "metadata": {},
   "outputs": [],
   "source": [
    "import matplotlib.pyplot as plt\n",
    "import numpy as np\n",
    "import sklearn.datasets\n",
    "import sklearn.decomposition"
   ]
  },
  {
   "cell_type": "code",
   "execution_count": 2,
   "metadata": {},
   "outputs": [],
   "source": [
    "#official sklearn factor analysis\n",
    "def skl_fa(data,num_of_latents):\n",
    "    \n",
    "    clf=sklearn.decomposition.FactorAnalysis(num_of_latents)    \n",
    "    clf.fit(data)\n",
    "       \n",
    "    return clf"
   ]
  },
  {
   "cell_type": "code",
   "execution_count": 3,
   "metadata": {},
   "outputs": [],
   "source": [
    "#pdf of multivariate gaussian\n",
    "#equivalent to scipy.stats.multivariate_normal(miu,sigma).pdf(data)\n",
    "def multivariate_gaussian(data,miu,sigma):\n",
    "    \n",
    "    numerator=np.exp(-0.5*(data-miu)@np.linalg.inv(sigma)@(data-miu).T)\n",
    "    denominator=(2*np.pi)**(data.shape[1]/2)*np.linalg.det(sigma)**0.5\n",
    "\n",
    "    return np.diagonal(numerator/denominator)"
   ]
  },
  {
   "cell_type": "code",
   "execution_count": 4,
   "metadata": {},
   "outputs": [],
   "source": [
    "#e step\n",
    "#use lambda_ and psi to update conditional miu and sigma\n",
    "def e_step(data,miu,lambda_,psi):\n",
    "    \n",
    "    #denote beta\n",
    "    beta=lambda_.T@np.linalg.inv(lambda_@lambda_.T+psi)\n",
    "\n",
    "    #compute conditional params\n",
    "    miu_z_given_x=beta@(data-miu).T\n",
    "    sigma_z_given_x=np.identity(lambda_.shape[1])-beta@lambda_\n",
    "    \n",
    "    return miu_z_given_x,sigma_z_given_x"
   ]
  },
  {
   "cell_type": "code",
   "execution_count": 5,
   "metadata": {},
   "outputs": [],
   "source": [
    "#m step\n",
    "#use conditional miu and sigma to update lambda_,psi\n",
    "def m_step(data,miu,miu_z_given_x,sigma_z_given_x):\n",
    "\n",
    "    #equation 8 in stanford material\n",
    "    lambda_=(data-miu).T@miu_z_given_x.T@np.linalg.inv(miu_z_given_x@miu_z_given_x.T+sigma_z_given_x)\n",
    "\n",
    "    #last equation\n",
    "    phi=(data.T@data-2*data.T@miu_z_given_x.T@lambda_.T+ \\\n",
    "         lambda_@(miu_z_given_x@miu_z_given_x.T+sigma_z_given_x)@lambda_.T)/data.shape[0]\n",
    "    \n",
    "    #take diagonal\n",
    "    psi=np.diag(np.diag(phi))\n",
    "    \n",
    "    return lambda_,psi"
   ]
  },
  {
   "cell_type": "code",
   "execution_count": 6,
   "metadata": {},
   "outputs": [],
   "source": [
    "#get latent variables z\n",
    "#andrew ng didnt teach us how to get the latent\n",
    "#we have to borrow ideas from sklearn even though we dont know why\n",
    "#alternatively\n",
    "#x=miu+lambda_@z+epsilon\n",
    "#z=inverse(lambda_)@(x-miu-epsilon)\n",
    "#but this is incorrect\n",
    "#as we dont know epsilon\n",
    "#we can only assume its zero\n",
    "#z=np.linalg.pinv(lambda_)@(data-miu).T\n",
    "def get_latent(data,miu,lambda_,psi):\n",
    "    \n",
    "    weighted_psi=lambda_.T@np.linalg.inv(psi)\n",
    "    cov_z=np.linalg.inv(np.identity(lambda_.shape[1])+weighted_psi@lambda_)\n",
    "    z=(data-miu)@(weighted_psi).T@cov_z\n",
    "    \n",
    "    return z"
   ]
  },
  {
   "cell_type": "code",
   "execution_count": 7,
   "metadata": {},
   "outputs": [],
   "source": [
    "#unlike gmm, only p(x|z) depends on the params\n",
    "#thus the computation can be simplified\n",
    "#although we have one more step of computing z\n",
    "def get_lower_bound(data,miu,lambda_,psi):\n",
    "    \n",
    "    #transform x\n",
    "    z=get_latent(data,miu,lambda_,psi)\n",
    "\n",
    "    #logarithm multivariate gaussian\n",
    "    logpdf=np.log(multivariate_gaussian(data-(lambda_@z.T).T,miu,psi))    \n",
    "    lower_bound=sum(logpdf)\n",
    "    \n",
    "    return lower_bound"
   ]
  },
  {
   "cell_type": "code",
   "execution_count": 8,
   "metadata": {},
   "outputs": [],
   "source": [
    "#using mle for training\n",
    "def training(data,num_of_latents,\n",
    "             tolerance=0.001,num_of_itr=50,diagnosis=False):\n",
    "        \n",
    "    #get dimensions\n",
    "    num_of_features=data.shape[1]\n",
    "    \n",
    "    #initialize\n",
    "    lower_bound_old=None\n",
    "    lower_bound=None\n",
    "    counter=0\n",
    "    \n",
    "    #miu is the unconditional mean\n",
    "    miu=data.mean(axis=0)    \n",
    "    \n",
    "    #lambda_ is the coefficient of the latent variables\n",
    "    #use principal components to initialize\n",
    "    #this approach improves the performance (Barber 2012)\n",
    "    _,eigvecs=np.linalg.eig((data-miu).T@(data-miu)/data.shape[0])\n",
    "    lambda_=eigvecs[:,:num_of_latents]\n",
    "\n",
    "    #psi is the covariance matrix of noise, a diagonal matrix\n",
    "    #use the diagonal of covariance matrix to initialize\n",
    "    psi=np.diag(np.diag((data-miu).T@(data-miu)/data.shape[0]))  \n",
    "\n",
    "    #cap the maximum number of iterations\n",
    "    while counter<num_of_itr:\n",
    "        \n",
    "        #e step\n",
    "        miu_z_given_x,sigma_z_given_x=e_step(data,miu,lambda_,psi)\n",
    "            \n",
    "        #m step\n",
    "        lambda_,psi=m_step(data,miu,\n",
    "                           miu_z_given_x,\n",
    "                           sigma_z_given_x)\n",
    "            \n",
    "        #use lower bound to determine if converged\n",
    "        lower_bound_old=lower_bound\n",
    "        lower_bound=get_lower_bound(data,miu,lambda_,psi)\n",
    "            \n",
    "        if lower_bound_old and np.abs(lower_bound/lower_bound_old-1)<tolerance:\n",
    "            if diagnosis:\n",
    "                print(f'{counter} iterations to reach convergence\\n')\n",
    "            return miu_z_given_x,sigma_z_given_x,lambda_,psi\n",
    "            \n",
    "        counter+=1\n",
    "    \n",
    "    if diagnosis:\n",
    "        print(f'{counter} iterations to reach convergence\\n')\n",
    "        \n",
    "    return miu_z_given_x,sigma_z_given_x,lambda_,psi"
   ]
  },
  {
   "cell_type": "code",
   "execution_count": 9,
   "metadata": {},
   "outputs": [],
   "source": [
    "#initialize number of latent variables\n",
    "num_of_latents=2"
   ]
  },
  {
   "cell_type": "code",
   "execution_count": 10,
   "metadata": {},
   "outputs": [],
   "source": [
    "#load data\n",
    "iris=sklearn.datasets.load_iris()"
   ]
  },
  {
   "cell_type": "code",
   "execution_count": 11,
   "metadata": {},
   "outputs": [
    {
     "data": {
      "text/plain": [
       "{'divide': 'warn', 'over': 'warn', 'under': 'ignore', 'invalid': 'warn'}"
      ]
     },
     "execution_count": 11,
     "metadata": {},
     "output_type": "execute_result"
    }
   ],
   "source": [
    "#raise error when zero is encountered in logarithm\n",
    "np.seterr(divide='raise')"
   ]
  },
  {
   "cell_type": "code",
   "execution_count": 12,
   "metadata": {},
   "outputs": [
    {
     "name": "stdout",
     "output_type": "stream",
     "text": [
      "3 iterations to reach convergence\n",
      "\n"
     ]
    }
   ],
   "source": [
    "miu_z_given_x,sigma_z_given_x,lambda_,psi=training(iris.data,\n",
    "                                                   num_of_latents,\n",
    "                                                   diagnosis=True)"
   ]
  },
  {
   "cell_type": "code",
   "execution_count": 13,
   "metadata": {},
   "outputs": [],
   "source": [
    "clf=skl_fa(iris.data,num_of_latents)"
   ]
  },
  {
   "cell_type": "code",
   "execution_count": 14,
   "metadata": {
    "scrolled": true
   },
   "outputs": [
    {
     "name": "stdout",
     "output_type": "stream",
     "text": [
      "[[ 2.51538355 -1.81399954]\n",
      " [-0.59921545 -3.44747338]\n",
      " [ 6.20068532  0.83567308]\n",
      " [ 2.70348799 -0.22529923]]\n",
      "[[ 0.72746132 -0.36874572]\n",
      " [-0.18085204 -0.24059   ]\n",
      " [ 1.75790224  0.03551754]\n",
      " [ 0.73100458  0.04526567]]\n",
      "[[34.3143796   0.          0.          0.        ]\n",
      " [ 0.          9.41287335  0.          0.        ]\n",
      " [ 0.          0.         14.24159276  0.        ]\n",
      " [ 0.          0.          0.          1.45144496]]\n",
      "[[0.01609026 0.         0.         0.        ]\n",
      " [0.         0.09807659 0.         0.        ]\n",
      " [0.         0.         0.00405033 0.        ]\n",
      " [0.         0.         0.         0.04071555]]\n"
     ]
    }
   ],
   "source": [
    "#both lambda and psi seem to be different from the result of sklearn\n",
    "print(lambda_)\n",
    "print(clf.components_.T)\n",
    "print(psi)\n",
    "print(np.diag(clf.noise_variance_))"
   ]
  },
  {
   "cell_type": "code",
   "execution_count": 15,
   "metadata": {},
   "outputs": [
    {
     "data": {
      "image/png": "[encoded data removed]",
      "text/plain": [
       "<Figure size 432x288 with 1 Axes>"
      ]
     },
     "metadata": {
      "needs_background": "light"
     },
     "output_type": "display_data"
    }
   ],
   "source": [
    "#viz\n",
    "z_em=get_latent(iris.data,iris.data.mean(axis=0),lambda_,psi)\n",
    "\n",
    "for i in np.unique(iris.target):\n",
    "    plt.scatter(z_em[:,0][iris.target==i],\n",
    "                z_em[:,1][iris.target==i],\n",
    "                label=f'Label {i}')\n",
    "plt.legend()\n",
    "plt.title('Factor Analysis by EM')\n",
    "plt.xlabel('Latent Variable 0')\n",
    "plt.ylabel('Latent Variable 1')\n",
    "plt.show()"
   ]
  },
  {
   "cell_type": "code",
   "execution_count": 16,
   "metadata": {},
   "outputs": [
    {
     "data": {
      "image/png": "[encoded data removed]",
      "text/plain": [
       "<Figure size 432x288 with 1 Axes>"
      ]
     },
     "metadata": {
      "needs_background": "light"
     },
     "output_type": "display_data"
    }
   ],
   "source": [
    "#our implementation looks like a flipped version\n",
    "#kinda like pca\n",
    "z_skl=clf.transform(iris.data)\n",
    "\n",
    "for i in np.unique(iris.target):\n",
    "    plt.scatter(z_skl[:,0][iris.target==i],\n",
    "                z_skl[:,1][iris.target==i],\n",
    "                label=f'Label {i}')\n",
    "plt.legend()\n",
    "plt.title('Factor Analysis by Sklearn')\n",
    "plt.xlabel('Latent Variable 0')\n",
    "plt.ylabel('Latent Variable 1')\n",
    "plt.show()"
   ]
  },
  {
   "cell_type": "markdown",
   "metadata": {},
   "source": [
    "### Optimal Number of Factors\n",
    "\n",
    "&nbsp;\n",
    "\n",
    "The optimal number of factors is somewhat similar to PCA. In our case, we already know the number because we merely want to make 2D visualization. For a more general case of latent variable transformation, the optimal could be determined by a couple of different methods. Here, we merely talk about three simple but powerful methods (basically they are related to eigenvalues).\n",
    "\n",
    "* Kaiser Criterion\n",
    "* Scree Plot\n",
    "* Variance Explained Criteria\n",
    "\n",
    "Other methods can be found in Wikipedia\n",
    "\n",
    "https://en.wikipedia.org/wiki/Factor_analysis#Criteria_for_determining_the_number_of_factors"
   ]
  },
  {
   "cell_type": "code",
   "execution_count": 17,
   "metadata": {},
   "outputs": [],
   "source": [
    "#get eigenvalues via LAPACK\n",
    "miu=iris.data.mean(axis=0)\n",
    "eigvals,eigvecs=np.linalg.eig((iris.data-miu).T@(iris.data-miu)/iris.data.shape[0])  "
   ]
  },
  {
   "cell_type": "markdown",
   "metadata": {},
   "source": [
    "##### Kaiser Criterion\n",
    "\n",
    "&nbsp;\n",
    "\n",
    "Don't get overwhelmed by the buzzword. The criterion can be described within 10 words, drop all components with eigenvalues smaller than 1."
   ]
  },
  {
   "cell_type": "code",
   "execution_count": 18,
   "metadata": {},
   "outputs": [
    {
     "name": "stdout",
     "output_type": "stream",
     "text": [
      "The optimal number of factors suggested by Kaiser Criterion is 1\n"
     ]
    }
   ],
   "source": [
    "print(f'The optimal number of factors suggested by Kaiser Criterion is {eigvals[eigvals>1].shape[0]}')"
   ]
  },
  {
   "cell_type": "markdown",
   "metadata": {},
   "source": [
    "##### Scree Plot\n",
    "\n",
    "&nbsp;\n",
    "\n",
    "Scree plot is plotting eigenvalues against the number of features. Then we use elbow method to determine where the steepest drop is.\n",
    "\n",
    "More details of elbow method can be found in the link below\n",
    "\n",
    "https://github.com/je-suis-tm/machine-learning/blob/master/k%20means.ipynb"
   ]
  },
  {
   "cell_type": "code",
   "execution_count": 19,
   "metadata": {},
   "outputs": [],
   "source": [
    "#dual axis plot\n",
    "def dual_axis_plot(xaxis,data1,data2,fst_color='r',\n",
    "                    sec_color='b',\n",
    "                   x_label='',y_label1='',y_label2='',\n",
    "                   legend1='',legend2='',grid=False,title=''):\n",
    "    \n",
    "    fig=plt.figure()\n",
    "    ax=fig.add_subplot(111)\n",
    "    \n",
    "\n",
    "    ax.set_xlabel(x_label)\n",
    "    ax.set_ylabel(y_label1, color=fst_color)\n",
    "    ax.plot(xaxis, data1, color=fst_color,label=legend1)\n",
    "    ax.tick_params(axis='y',labelcolor=fst_color)\n",
    "    ax.yaxis.labelpad=15\n",
    "\n",
    "    plt.legend(loc=3)\n",
    "    ax2 = ax.twinx()\n",
    "\n",
    "    ax2.set_ylabel(y_label2, color=sec_color,rotation=270)\n",
    "    ax2.plot(xaxis, data2, color=sec_color,label=legend2)\n",
    "    ax2.tick_params(axis='y',labelcolor=sec_color)\n",
    "    ax2.yaxis.labelpad=15\n",
    "\n",
    "    fig.tight_layout()\n",
    "    plt.legend(loc=4)\n",
    "    plt.grid(grid)\n",
    "    plt.xticks(xaxis)\n",
    "    plt.title(title)\n",
    "    plt.show()"
   ]
  },
  {
   "cell_type": "code",
   "execution_count": 20,
   "metadata": {},
   "outputs": [],
   "source": [
    "#get distance between a point and a line\n",
    "def get_distance(x,y,a,b):\n",
    "    \n",
    "    numerator=y-x*a-b\n",
    "    denominator=(a**2+1)**0.5\n",
    "    \n",
    "    return np.abs(numerator/denominator)\n",
    "\n",
    "#create line equation from two points\n",
    "def get_line_params(x1,y1,x2,y2):\n",
    "    \n",
    "    a=(y1-y2)/(x1-x2)\n",
    "    b=y1-a*x1\n",
    "    \n",
    "    return a,b"
   ]
  },
  {
   "cell_type": "code",
   "execution_count": 21,
   "metadata": {},
   "outputs": [
    {
     "data": {
      "image/png": "[encoded data removed]",
      "text/plain": [
       "<Figure size 432x288 with 2 Axes>"
      ]
     },
     "metadata": {
      "needs_background": "light"
     },
     "output_type": "display_data"
    }
   ],
   "source": [
    "#elbow method\n",
    "a,b=get_line_params(0,eigvals[0],len(eigvals)-1,eigvals[-1])\n",
    "\n",
    "distance=[]\n",
    "for i in range(len(eigvals)):    \n",
    "    distance.append(get_distance(i,eigvals[i],a,b))\n",
    "\n",
    "dual_axis_plot(np.arange(1,len(distance)+1),eigvals,distance,\n",
    "               x_label='Numbers of Factors',\n",
    "               y_label1='Eigenvalues',\n",
    "               y_label2='Perpendicular Distance',\n",
    "               legend1='Eigenvalues',legend2='Distance',\n",
    "               title='Elbow Method for Scree Plot',\n",
    "               fst_color='#11a266',sec_color='#405abb')"
   ]
  },
  {
   "cell_type": "code",
   "execution_count": 22,
   "metadata": {},
   "outputs": [
    {
     "name": "stdout",
     "output_type": "stream",
     "text": [
      "The optimal number of factors suggested by Scree Plot is 2\n"
     ]
    }
   ],
   "source": [
    "#apparently different approaches end up with different results\n",
    "print(f'The optimal number of factors suggested by Scree Plot is {distance.index(max(distance))+1}')"
   ]
  },
  {
   "cell_type": "markdown",
   "metadata": {},
   "source": [
    "##### Variance Explained Criteria\n",
    "\n",
    "&nbsp;\n",
    "\n",
    "This is the same as PCA. The R squared (usually 95% in statistics) exceeding the preset threshold is the optimal number of factors."
   ]
  },
  {
   "cell_type": "code",
   "execution_count": 23,
   "metadata": {},
   "outputs": [],
   "source": [
    "#compute variance explained\n",
    "def compute_r_squared(data,z,miu,lambda_):\n",
    "\n",
    "    #compute fitted and error\n",
    "    fitted=lambda_@z.T+miu.reshape(-1,1)\n",
    "    error=(data-fitted.T)\n",
    "\n",
    "    #sum of squared errors\n",
    "    #equivalent to np.linalg.norm(error)\n",
    "    numerator=np.diag(error.T@error).sum()**0.5\n",
    "\n",
    "    #sum of squared total\n",
    "    denominator=np.diag((data).T@(data)).sum()**0.5\n",
    "\n",
    "    return 1-numerator/denominator"
   ]
  },
  {
   "cell_type": "code",
   "execution_count": 24,
   "metadata": {},
   "outputs": [],
   "source": [
    "#iterate through all possible numbers of factors\n",
    "rsquared=[]\n",
    "threshold=0.95\n",
    "for i in range(1,iris.data.shape[1]+1):\n",
    "    _,_,lambda_,psi=training(iris.data,i)\n",
    "    z=get_latent(iris.data, miu, lambda_, psi)\n",
    "    rsquared.append(compute_r_squared(iris.data,z,miu,lambda_))"
   ]
  },
  {
   "cell_type": "code",
   "execution_count": 25,
   "metadata": {},
   "outputs": [],
   "source": [
    "#find the optima\n",
    "try:\n",
    "    optima=[i for i in rsquared if i>threshold][0]\n",
    "    ind=rsquared.index(optima)+1\n",
    "except IndexError:\n",
    "    ind=len(rsquared)-1"
   ]
  },
  {
   "cell_type": "code",
   "execution_count": 26,
   "metadata": {},
   "outputs": [
    {
     "data": {
      "image/png": "[encoded data removed]",
      "text/plain": [
       "<Figure size 432x288 with 1 Axes>"
      ]
     },
     "metadata": {
      "needs_background": "light"
     },
     "output_type": "display_data"
    }
   ],
   "source": [
    "#viz\n",
    "plt.plot(range(1,iris.data.shape[1]+1),rsquared)\n",
    "plt.plot([ind+1],[rsquared[ind]],lw=0,marker='*',\n",
    "         markersize=10,color='gold') \n",
    "plt.hlines(threshold,1,iris.data.shape[1],linestyles=':')\n",
    "plt.xticks(range(1,iris.data.shape[1]+1))\n",
    "plt.title('Optimal Number of Factors')\n",
    "plt.xlabel('Number of Factors')\n",
    "plt.ylabel('R Squared')\n",
    "plt.show()"
   ]
  },
  {
   "cell_type": "code",
   "execution_count": 27,
   "metadata": {},
   "outputs": [
    {
     "name": "stdout",
     "output_type": "stream",
     "text": [
      "The optimal number of factors suggested by Variance Explained Criteria is 4\n"
     ]
    }
   ],
   "source": [
    "#apparently nobody hits the threshold, lol\n",
    "print(f'The optimal number of factors suggested by Variance Explained Criteria is {ind+1}')"
   ]
  },
  {
   "cell_type": "code",
   "execution_count": null,
   "metadata": {},
   "outputs": [],
   "source": []
  }
 ],
 "metadata": {
  "kernelspec": {
   "display_name": "Python 3",
   "language": "python",
   "name": "python3"
  },
  "language_info": {
   "codemirror_mode": {
    "name": "ipython",
    "version": 3
   },
   "file_extension": ".py",
   "mimetype": "text/x-python",
   "name": "python",
   "nbconvert_exporter": "python",
   "pygments_lexer": "ipython3",
   "version": "3.6.5"
  },
  "toc": {
   "base_numbering": 1,
   "nav_menu": {},
   "number_sections": true,
   "sideBar": true,
   "skip_h1_title": false,
   "title_cell": "Table of Contents",
   "title_sidebar": "Contents",
   "toc_cell": false,
   "toc_position": {},
   "toc_section_display": true,
   "toc_window_display": false
  }
 },
 "nbformat": 4,
 "nbformat_minor": 2
}
